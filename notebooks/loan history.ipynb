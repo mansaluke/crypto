{
 "cells": [
  {
   "cell_type": "code",
   "execution_count": null,
   "metadata": {},
   "outputs": [],
   "source": [
    "import sys\n",
    "sys.path.append('..')"
   ]
  },
  {
   "cell_type": "code",
   "execution_count": null,
   "metadata": {},
   "outputs": [],
   "source": [
    "from binance.spot import Spot\n",
    "from secret import API_KEY, SECRET_KEY\n",
    "from crypto.utils import *\n",
    "import pandas as pd\n",
    "\n",
    "\n",
    "client = Spot()\n",
    "client_time = client.time()\n",
    "\n",
    "client = Spot(\n",
    "    key=API_KEY,\n",
    "    secret=SECRET_KEY)\n",
    "\n",
    "# Get account information\n",
    "# print(client.account())\n"
   ]
  },
  {
   "cell_type": "code",
   "execution_count": null,
   "metadata": {},
   "outputs": [],
   "source": [
    "from dateutil.rrule import rrule, MONTHLY\n",
    "from datetime import datetime\n",
    "\n",
    "def month_iter(start_month, start_year, end_month, end_year):\n",
    "    start = datetime(start_year, start_month, 1)\n",
    "    end = datetime(end_year, end_month, 1)\n",
    "\n",
    "    return ((d.month, d.year) for d in rrule(MONTHLY, dtstart=start, until=end))\n",
    "\n",
    "    "
   ]
  },
  {
   "cell_type": "code",
   "execution_count": null,
   "metadata": {},
   "outputs": [],
   "source": [
    "loan_history = []\n",
    "for m in month_iter(1, 2021, 4, 2022):\n",
    "    start_date = \"{0}/{1}/01\"\n",
    "    start = date_to_milliseconds(start_date.format(m[1], m[0]))\n",
    "    if m[0]==12:\n",
    "        end = date_to_milliseconds(start_date.format(m[1]+1, 1)) - 1\n",
    "    else:\n",
    "        end = date_to_milliseconds(start_date.format(m[1], m[0]+1)) - 1\n",
    "\n",
    "    s = milliseconds_to_date(start)\n",
    "    e = milliseconds_to_date(end)\n",
    "    print(f'Getting data for: {s} to {e}')\n",
    "    loan_history.extend(client.loan_history('BUSD', startTime=start, endTime=end))"
   ]
  },
  {
   "cell_type": "code",
   "execution_count": null,
   "metadata": {},
   "outputs": [],
   "source": [
    "df = pd.DataFrame(loan_history)\n",
    "df.amount = df.amount.astype(str).astype(float)\n",
    "df.timestamp = df.timestamp.apply(milliseconds_to_date)"
   ]
  },
  {
   "cell_type": "code",
   "execution_count": null,
   "metadata": {},
   "outputs": [],
   "source": [
    "df.type.unique()"
   ]
  },
  {
   "cell_type": "code",
   "execution_count": null,
   "metadata": {},
   "outputs": [],
   "source": [
    "df[df.type==\"borrowIn\"].amount.sum()"
   ]
  },
  {
   "cell_type": "code",
   "execution_count": null,
   "metadata": {},
   "outputs": [],
   "source": [
    "df = df.rename(columns={\n",
    "    \"timestamp\": \"Date(UTC)\",\n",
    "    \"asset\": \"Coin\",\n",
    "    \"amount\": \"Amount\",\n",
    "    \"tranId\": \"PaymentID\"\n",
    "}\n",
    ")\n",
    "\n",
    "df[\"Indicated Amount\"] = df[\"Amount\"]\n",
    "df['TransactionFee'] = 0\n",
    "df['Status'] = \"Successful\"\n",
    "df['Network'] = ''\n",
    "df['TXID'] = ''"
   ]
  },
  {
   "cell_type": "code",
   "execution_count": null,
   "metadata": {},
   "outputs": [],
   "source": [
    "df_borrow = df[df.type==\"borrowIn\"].copy()\n",
    "df_borrow['SourceAddress'] = 'Binance Loans'\n",
    "df_borrow['Address'] = ''\n",
    "df_borrow = df_borrow[['Date(UTC)', 'Coin', 'Network', 'Amount', 'TransactionFee', 'Address', 'TXID', 'SourceAddress', 'PaymentID', 'Status']]"
   ]
  },
  {
   "cell_type": "code",
   "execution_count": null,
   "metadata": {},
   "outputs": [],
   "source": [
    "df_borrow"
   ]
  },
  {
   "cell_type": "code",
   "execution_count": null,
   "metadata": {},
   "outputs": [],
   "source": [
    "df_borrow.to_csv(r\"C:\\Users\\lukem\\Downloads\\deposit_history.csv\", index=False)"
   ]
  },
  {
   "cell_type": "code",
   "execution_count": null,
   "metadata": {},
   "outputs": [],
   "source": [
    "df_repay = df[df.type==\"repayAmount\"].copy()\n",
    "df_repay['SourceAddress'] = ''\n",
    "df['Address'] = 'Binance Loans'\n",
    "df_repay.Amount = df_repay.Amount * -1\n",
    "df_repay = df_repay[['Date(UTC)', 'Coin', 'Network', 'Amount', 'TransactionFee', 'Address', 'TXID', 'SourceAddress', 'PaymentID', 'Status']]"
   ]
  },
  {
   "cell_type": "code",
   "execution_count": null,
   "metadata": {},
   "outputs": [],
   "source": [
    "df_repay"
   ]
  },
  {
   "cell_type": "code",
   "execution_count": null,
   "metadata": {},
   "outputs": [],
   "source": [
    "df_repay.to_csv(r\"C:\\Users\\lukem\\Downloads\\withdrawal_history.csv\", index=False)"
   ]
  },
  {
   "cell_type": "code",
   "execution_count": null,
   "metadata": {},
   "outputs": [],
   "source": []
  }
 ],
 "metadata": {
  "interpreter": {
   "hash": "34cc0ef53b6bd3b784f33c5b05f1e501f163c4880eb1628a4bc003d488bdb58a"
  },
  "kernelspec": {
   "display_name": "Python 3.10.4 64-bit",
   "language": "python",
   "name": "python3"
  },
  "language_info": {
   "codemirror_mode": {
    "name": "ipython",
    "version": 3
   },
   "file_extension": ".py",
   "mimetype": "text/x-python",
   "name": "python",
   "nbconvert_exporter": "python",
   "pygments_lexer": "ipython3",
   "version": "3.10.4"
  },
  "orig_nbformat": 2
 },
 "nbformat": 4,
 "nbformat_minor": 2
}
