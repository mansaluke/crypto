{
 "cells": [
  {
   "cell_type": "code",
   "execution_count": null,
   "metadata": {},
   "outputs": [],
   "source": [
    "import sys\n",
    "sys.path.append('..')"
   ]
  },
  {
   "cell_type": "code",
   "execution_count": null,
   "metadata": {},
   "outputs": [],
   "source": [
    "from binance.spot import Spot\n",
    "from datetime import datetime\n",
    "from secret import API_KEY, SECRET_KEY\n",
    "from crypto.utils import milliseconds_to_date\n",
    "\n",
    "\n",
    "client = Spot()\n",
    "client_time = client.time()\n",
    "\n",
    "client = Spot(\n",
    "    key=API_KEY,\n",
    "    secret=SECRET_KEY)\n",
    "\n",
    "# Get account information\n",
    "# print(client.account())\n"
   ]
  },
  {
   "cell_type": "code",
   "execution_count": null,
   "metadata": {},
   "outputs": [],
   "source": [
    "milliseconds_to_date(1609459200000)"
   ]
  },
  {
   "cell_type": "code",
   "execution_count": null,
   "metadata": {},
   "outputs": [],
   "source": [
    "client"
   ]
  },
  {
   "cell_type": "code",
   "execution_count": null,
   "metadata": {},
   "outputs": [],
   "source": [
    "end_time = client_time['serverTime']\n",
    "fiat_order_history_response = client.fiat_order_history(1, beginTime=1609459200000, endTime=end_time)\n"
   ]
  },
  {
   "cell_type": "code",
   "execution_count": null,
   "metadata": {},
   "outputs": [],
   "source": [
    "fiat_order_history_response"
   ]
  },
  {
   "cell_type": "code",
   "execution_count": null,
   "metadata": {},
   "outputs": [],
   "source": [
    "for i in fiat_order_history_response[\"data\"]:\n",
    "    if i['status']=='Successful':\n",
    "        date = datetime.fromtimestamp(i[\"createTime\"]/1000)\n",
    "        print(date, i['amount'], i['totalFee'])"
   ]
  },
  {
   "cell_type": "code",
   "execution_count": null,
   "metadata": {},
   "outputs": [],
   "source": [
    "# Missing BUSD between 2021-08-22 15:30:13 UTC and 2021-11-16 16:14:49 UTC\n",
    "start = '2021-08-22 15:30:13'\n",
    "start = datetime.strptime(start, '%Y-%m-%d %H:%M:%S')\n",
    "end = '2021-11-16 16:14:49'\n",
    "end = datetime.strptime(end, '%Y-%m-%d %H:%M:%S')\n",
    "out = []\n",
    "for i in fiat_order_history_response[\"data\"]:\n",
    "    if i['status']=='Successful':\n",
    "        date = datetime.fromtimestamp(i[\"createTime\"]/1000)\n",
    "        if date>start and date<end:\n",
    "            out.append(i)\n",
    "            print(date)\n",
    "            print('-----')\n"
   ]
  },
  {
   "cell_type": "code",
   "execution_count": null,
   "metadata": {},
   "outputs": [],
   "source": [
    "len(out)"
   ]
  },
  {
   "cell_type": "code",
   "execution_count": null,
   "metadata": {},
   "outputs": [],
   "source": [
    "total = 0\n",
    "fee = 0\n",
    "for i in fiat_order_history_response[\"data\"]:\n",
    "    if i['status']=='Successful':\n",
    "        total += float(i['amount'])\n",
    "        fee += float(i['totalFee'])"
   ]
  },
  {
   "cell_type": "code",
   "execution_count": null,
   "metadata": {},
   "outputs": [],
   "source": [
    "total"
   ]
  },
  {
   "cell_type": "code",
   "execution_count": null,
   "metadata": {},
   "outputs": [],
   "source": [
    "fee"
   ]
  },
  {
   "cell_type": "code",
   "execution_count": null,
   "metadata": {},
   "outputs": [],
   "source": [
    "fiat_order_history_response_withdraw = client.fiat_order_history(1, beginTime = 1609459200000, endTime=end_time)\n",
    "total_w = 0\n",
    "fee_w = 0\n",
    "for i in fiat_order_history_response_withdraw[\"data\"]:\n",
    "    if i['status']=='Successful':\n",
    "        total_w += float(i['amount'])\n",
    "        fee_w += float(i['totalFee'])\n",
    "print(f'total: {total_w}, fee: {fee_w}')"
   ]
  },
  {
   "cell_type": "code",
   "execution_count": null,
   "metadata": {},
   "outputs": [],
   "source": [
    "# total invested\n",
    "t = total - total_w"
   ]
  },
  {
   "cell_type": "code",
   "execution_count": null,
   "metadata": {},
   "outputs": [],
   "source": [
    "conv_usdt = float(client.avg_price('EURUSDT')['price'])"
   ]
  },
  {
   "cell_type": "code",
   "execution_count": null,
   "metadata": {},
   "outputs": [],
   "source": [
    "conv_usdt"
   ]
  },
  {
   "cell_type": "code",
   "execution_count": null,
   "metadata": {},
   "outputs": [],
   "source": [
    "inv = t*conv_usdt"
   ]
  },
  {
   "cell_type": "code",
   "execution_count": null,
   "metadata": {},
   "outputs": [],
   "source": [
    "debt = 0"
   ]
  },
  {
   "cell_type": "code",
   "execution_count": null,
   "metadata": {},
   "outputs": [],
   "source": [
    "inv"
   ]
  },
  {
   "cell_type": "code",
   "execution_count": null,
   "metadata": {},
   "outputs": [],
   "source": [
    "inv + debt"
   ]
  },
  {
   "cell_type": "code",
   "execution_count": null,
   "metadata": {},
   "outputs": [],
   "source": []
  }
 ],
 "metadata": {
  "interpreter": {
   "hash": "34cc0ef53b6bd3b784f33c5b05f1e501f163c4880eb1628a4bc003d488bdb58a"
  },
  "kernelspec": {
   "display_name": "Python 3.10.4 64-bit",
   "language": "python",
   "name": "python3"
  },
  "language_info": {
   "codemirror_mode": {
    "name": "ipython",
    "version": 3
   },
   "file_extension": ".py",
   "mimetype": "text/x-python",
   "name": "python",
   "nbconvert_exporter": "python",
   "pygments_lexer": "ipython3",
   "version": "3.10.4"
  },
  "orig_nbformat": 2
 },
 "nbformat": 4,
 "nbformat_minor": 2
}
