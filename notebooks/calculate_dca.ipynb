{
 "cells": [
  {
   "cell_type": "code",
   "execution_count": null,
   "metadata": {},
   "outputs": [],
   "source": [
    "%load_ext autoreload\n",
    "%autoreload 2\n",
    "%matplotlib inline"
   ]
  },
  {
   "cell_type": "code",
   "execution_count": null,
   "metadata": {},
   "outputs": [],
   "source": [
    "import os\n",
    "import findspark\n",
    "findspark.init()\n",
    "from pyspark.sql import SparkSession, Row\n",
    "import pyspark.sql.functions as F\n",
    "import json\n",
    "import crypto.get_dca\n",
    "import matplotlib.pyplot as plt"
   ]
  },
  {
   "cell_type": "code",
   "execution_count": null,
   "metadata": {},
   "outputs": [],
   "source": [
    "spark = SparkSession.builder.getOrCreate()\n",
    "sc = spark.sparkContext"
   ]
  },
  {
   "cell_type": "code",
   "execution_count": null,
   "metadata": {},
   "outputs": [],
   "source": [
    "path = 'C:\\\\Users\\\\l.mcleary\\\\OneDrive - Accenture\\\\Documents\\\\Python Scripts\\\\crypto\\\\data\\\\'\n",
    "file_path = path + max(os.listdir(path))\n",
    "ordersDF = spark.read.json(file_path)"
   ]
  },
  {
   "cell_type": "code",
   "execution_count": null,
   "metadata": {},
   "outputs": [],
   "source": [
    "ordersDF.show(n=1, vertical=True)"
   ]
  },
  {
   "cell_type": "code",
   "execution_count": null,
   "metadata": {},
   "outputs": [],
   "source": [
    "ordersDF.select('status').distinct().show()"
   ]
  },
  {
   "cell_type": "code",
   "execution_count": null,
   "metadata": {},
   "outputs": [],
   "source": [
    "ordersfilledDF = ordersDF.filter(ordersDF.status!='CANCELED')"
   ]
  },
  {
   "cell_type": "code",
   "execution_count": null,
   "metadata": {},
   "outputs": [],
   "source": [
    "ordersfilledDF = ordersfilledDF.withColumn(\n",
    "    \"target_pair\",\n",
    "    F.when(F.col(\"target_pair\")==F.col(\"symbol\"),\n",
    "    F.col(\"symbol\")\n",
    "    ).otherwise(F.col(\"target_pair\")))"
   ]
  },
  {
   "cell_type": "code",
   "execution_count": null,
   "metadata": {},
   "outputs": [],
   "source": [
    "buyDF = ordersfilledDF.filter(ordersfilledDF.side==\"BUY\").groupby('target_pair').agg({\"executedQty\":\"sum\"})\n",
    "sellDF = ordersfilledDF.filter(ordersfilledDF.side==\"SELL\").groupby('target_pair').agg({\"executedQty\":\"sum\"})"
   ]
  },
  {
   "cell_type": "code",
   "execution_count": null,
   "metadata": {},
   "outputs": [],
   "source": [
    "buyDF = buyDF.withColumnRenamed(\"sum(executedQty)\", \"Buy Total\")\n",
    "sellDF = sellDF.withColumnRenamed(\"sum(executedQty)\", \"Sell Total\")"
   ]
  },
  {
   "cell_type": "code",
   "execution_count": null,
   "metadata": {},
   "outputs": [],
   "source": [
    "sellDF.show()"
   ]
  },
  {
   "cell_type": "code",
   "execution_count": null,
   "metadata": {},
   "outputs": [],
   "source": [
    "df = buyDF.join(sellDF, on=\"target_pair\",how=\"FULL\")\n",
    "\n",
    "for col_name in df.columns:\n",
    "    df = df.fillna(0)\n",
    "df = df.withColumn(\"sum\", F.col(\"Buy Total\") - F.col(\"Sell Total\"))"
   ]
  },
  {
   "cell_type": "code",
   "execution_count": null,
   "metadata": {},
   "outputs": [],
   "source": [
    "df.show()"
   ]
  },
  {
   "cell_type": "code",
   "execution_count": null,
   "metadata": {},
   "outputs": [],
   "source": [
    "coins = df.select(\"target_pair\").collect()"
   ]
  },
  {
   "cell_type": "code",
   "execution_count": null,
   "metadata": {},
   "outputs": [],
   "source": [
    "from crypto.get_dca import client"
   ]
  },
  {
   "cell_type": "code",
   "execution_count": null,
   "metadata": {},
   "outputs": [],
   "source": [
    "from binance.spot import Spot\n",
    "\n",
    "client = Spot()"
   ]
  },
  {
   "cell_type": "code",
   "execution_count": null,
   "metadata": {},
   "outputs": [],
   "source": [
    "current_price = {}\n",
    "for c in coins:\n",
    "    print(c['target_pair'])\n",
    "    try:\n",
    "        current_price[c['target_pair']] = client.avg_price(c['target_pair'])['price']\n",
    "    except:\n",
    "        print('failed: ' +str(c) )"
   ]
  },
  {
   "cell_type": "code",
   "execution_count": null,
   "metadata": {},
   "outputs": [],
   "source": [
    "current_price"
   ]
  },
  {
   "cell_type": "code",
   "execution_count": null,
   "metadata": {},
   "outputs": [],
   "source": [
    "cp= list(map(list, {k: float(v) for k, v in current_price.items()}.items()))\n",
    "cp\n"
   ]
  },
  {
   "cell_type": "code",
   "execution_count": null,
   "metadata": {},
   "outputs": [],
   "source": [
    "from pyspark.sql.types import ArrayType, StructField, StructType, StringType, FloatType, DecimalType\n",
    "schema = StructType([\n",
    "    StructField('Coin', StringType()),\n",
    "    StructField('Price', FloatType())\n",
    "    ])\n",
    "currentDF = spark.createDataFrame(cp, schema)"
   ]
  },
  {
   "cell_type": "code",
   "execution_count": null,
   "metadata": {},
   "outputs": [],
   "source": [
    "df = df.join(currentDF, F.col(\"target_pair\")== F.col(\"Coin\"), \"Full\")"
   ]
  },
  {
   "cell_type": "code",
   "execution_count": null,
   "metadata": {},
   "outputs": [],
   "source": [
    "if df.filter(\"target_pair!=Coin\").count()==0:\n",
    "    df = df.drop(\"Coin\")\n",
    "df = df.drop(\"Buy Total\", \"Sell Total\")\n",
    "df = df.withColumn(\"total_value\", F.col(\"sum\")*F.col(\"price\"))"
   ]
  },
  {
   "cell_type": "code",
   "execution_count": null,
   "metadata": {},
   "outputs": [],
   "source": [
    "df = df.orderBy(\"total_value\", ascending=False)\n",
    "df.show()"
   ]
  },
  {
   "cell_type": "code",
   "execution_count": null,
   "metadata": {},
   "outputs": [],
   "source": [
    "pair_value_list = df.select(\"target_pair\", \"total_value\") \\\n",
    "    .filter(F.col(\"total_value\").isNotNull()).collect()\n",
    "target_pair = [p[\"target_pair\"] for p in pair_value_list]\n",
    "total_value = [p[\"total_value\"] for p in pair_value_list]\n"
   ]
  },
  {
   "cell_type": "code",
   "execution_count": null,
   "metadata": {},
   "outputs": [],
   "source": [
    "target_pair = target_pair[4:]\n",
    "total_value = total_value[4:]"
   ]
  },
  {
   "cell_type": "code",
   "execution_count": null,
   "metadata": {},
   "outputs": [],
   "source": [
    "fig1, ax1 = plt.subplots()\n",
    "ax1.pie(total_value, labels=target_pair, autopct='%1.1f%%',\n",
    "        shadow=True, startangle=90)\n",
    "ax1.axis('equal')  # Equal aspect ratio ensures that pie is drawn as a circle.\n",
    "\n",
    "plt.show()"
   ]
  },
  {
   "cell_type": "code",
   "execution_count": null,
   "metadata": {},
   "outputs": [],
   "source": []
  }
 ],
 "metadata": {
  "interpreter": {
   "hash": "c73362caf61c6096170ebb5e1cf1599cadb5b0970df84502d3bb06763e9d52bb"
  },
  "kernelspec": {
   "display_name": "Python 3.9.1 64-bit ('env': venv)",
   "name": "python3"
  },
  "language_info": {
   "codemirror_mode": {
    "name": "ipython",
    "version": 3
   },
   "file_extension": ".py",
   "mimetype": "text/x-python",
   "name": "python",
   "nbconvert_exporter": "python",
   "pygments_lexer": "ipython3",
   "version": "3.9.1"
  },
  "orig_nbformat": 4
 },
 "nbformat": 4,
 "nbformat_minor": 2
}
