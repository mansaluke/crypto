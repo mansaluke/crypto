{
 "cells": [
  {
   "cell_type": "code",
   "execution_count": null,
   "metadata": {},
   "outputs": [],
   "source": [
    "%load_ext autoreload\n",
    "%autoreload 2\n",
    "# %matplotlib inline"
   ]
  },
  {
   "cell_type": "code",
   "execution_count": null,
   "metadata": {},
   "outputs": [],
   "source": [
    "from datetime import datetime\n",
    "import time\n",
    "import findspark\n",
    "findspark.init()\n",
    "from pyspark.sql import SparkSession, Row\n",
    "import pyspark.sql.functions as F\n",
    "from binance.client import Client\n",
    "from binance.spot import Spot\n",
    "from crypto.utils import date_to_milliseconds, int_to_date\n",
    "from crypto.get_dca import get_historical_price\n",
    "from crypto.get_dca import DCA\n"
   ]
  },
  {
   "cell_type": "code",
   "execution_count": null,
   "metadata": {},
   "outputs": [],
   "source": [
    "# spark = SparkSession.builder.getOrCreate()\n",
    "# sc = spark.sparkContext"
   ]
  },
  {
   "cell_type": "code",
   "execution_count": null,
   "metadata": {},
   "outputs": [],
   "source": [
    "# binanceAPI1\n",
    "KEY = 'b25TtEWHvfDybaa0mMfkJ9CY4HCvP4sDBWj8no3mVvbD6bTLVjPyUo25tSFOGrgT'\n",
    "SECRET = 'EFtFBJblJUJZ4WW16f3yJmXxnFVah0YObA8Sm0z7mCcNOQO1EBqDO8b1HLY8KIuM'\n",
    "BASE_URL = 'https://api.binance.com' # production base url\n",
    "# BASE_URL = 'https://testnet.binance.vision' # testnet base url\n",
    "\n",
    "client = Client(KEY, SECRET)\n",
    "\n"
   ]
  },
  {
   "cell_type": "markdown",
   "metadata": {},
   "source": [
    "1. first figure out how to get average buying price\n",
    "\n",
    "2. second recursively apply buying price to portfolio\n",
    "\n",
    "empezemos\n",
    "\n",
    "lets start off by taking a par e.g sol/usdt\n",
    "\n",
    "we will figure out the equivalent in various currencies e.g usd, eur, btc, bnb"
   ]
  },
  {
   "cell_type": "code",
   "execution_count": null,
   "metadata": {},
   "outputs": [],
   "source": [
    "exchange_info = client.get_exchange_info()"
   ]
  },
  {
   "cell_type": "code",
   "execution_count": null,
   "metadata": {},
   "outputs": [],
   "source": [
    "d = DCA()"
   ]
  },
  {
   "cell_type": "code",
   "execution_count": null,
   "metadata": {},
   "outputs": [],
   "source": [
    "a = ['KSM', 'SOL']"
   ]
  },
  {
   "cell_type": "code",
   "execution_count": null,
   "metadata": {},
   "outputs": [],
   "source": [
    "list(\n",
    "    filter(\n",
    "        lambda x: x.endswith(tuple(a))\n",
    "        or x.startswith(tuple(a)), d.full_pair_list))"
   ]
  },
  {
   "cell_type": "code",
   "execution_count": null,
   "metadata": {},
   "outputs": [],
   "source": [
    "filter_by_currency(d.full_pair_list, 'KSM')"
   ]
  },
  {
   "cell_type": "code",
   "execution_count": null,
   "metadata": {},
   "outputs": [],
   "source": [
    "set([e['baseAsset'] for e in exchange_info['symbols']]).intersection(\n",
    "    set([e['symbol'] for e in exchange_info['symbols']]))\n"
   ]
  },
  {
   "cell_type": "code",
   "execution_count": null,
   "metadata": {},
   "outputs": [],
   "source": [
    "set([e['baseAsset'] for e in exchange_info['symbols']])"
   ]
  },
  {
   "cell_type": "code",
   "execution_count": null,
   "metadata": {},
   "outputs": [],
   "source": [
    "# get all corresponding pairs\n",
    "full_coin_list = list(set([e['symbol'] for e in exchange_info['symbols']]))\n",
    "coin = 'BTC'\n",
    "target_currency = 'USDT'\n",
    "pairs = list(filter(lambda x: x.__contains__(coin), full_coin_list))\n",
    "len(pairs)\n"
   ]
  },
  {
   "cell_type": "code",
   "execution_count": null,
   "metadata": {},
   "outputs": [],
   "source": [
    "# get all orders for those pairs\n",
    "pair_orders = []\n",
    "idx=0\n",
    "for i in pairs:\n",
    "    # print(i)\n",
    "    idx += 1\n",
    "    pair_orders.extend(client.get_all_orders(symbol=i, limit=1))\n",
    "    if idx % 3 == 0:\n",
    "        time.sleep(1)\n"
   ]
  },
  {
   "cell_type": "code",
   "execution_count": null,
   "metadata": {},
   "outputs": [],
   "source": [
    "# get currency list (currency coin was bought in)\n",
    "coin_set = set([o['symbol'] for o in pair_orders])\n",
    "print(coin_set)\n",
    "current_currency_list = list(map(lambda p: p.replace(coin, ''), coin_set))\n",
    "\n",
    "current_currency_list"
   ]
  },
  {
   "cell_type": "code",
   "execution_count": null,
   "metadata": {},
   "outputs": [],
   "source": [
    "def filter_by_currency(inp, currency_filter):\n",
    "    # cannot use 'contains' e.g. 'CKBUSDT' contains BUSD but is not BUSD\n",
    "    return list(filter(lambda x: x.endswith(currency_filter) or x.startswith(currency_filter), inp))\n",
    "\n",
    "    "
   ]
  },
  {
   "cell_type": "code",
   "execution_count": null,
   "metadata": {},
   "outputs": [],
   "source": [
    "# get current to target currency pair and check 1 occurance\n",
    "final_convertion_dict = {}\n",
    "target_currency_list = list(\n",
    "    filter(lambda e: e.__contains__(target_currency), full_coin_list))\n",
    "for c in current_currency_list:\n",
    "    if c==target_currency:\n",
    "        final_convertion_dict[c]=c\n",
    "    else:\n",
    "        print(c)\n",
    "        # find single currency - test possibilities\n",
    "        # e.g. usdtbusd or busdusdt\n",
    "        _target_pair = c + target_currency\n",
    "        position = 1\n",
    "        filtered = filter_by_currency(target_currency_list, _target_pair)\n",
    "        if len(filtered)==0:\n",
    "            _target_pair = target_currency + c\n",
    "            position = 2\n",
    "            filtered = filter_by_currency(target_currency_list, _target_pair)\n",
    "        assert len(filtered)==1\n",
    "        final_convertion_dict[c] = filtered[0]\n",
    "final_convertion_dict"
   ]
  },
  {
   "cell_type": "code",
   "execution_count": null,
   "metadata": {},
   "outputs": [],
   "source": [
    "currency_target = {}\n",
    "for order in pair_orders:\n",
    "    if order['status'] != 'CANCELED':\n",
    "        _symbol = order['symbol'].replace(coin, '')\n",
    "        if _symbol==target_currency:\n",
    "            order['conversion_pair'] = 'NA'\n",
    "            order['target_currency_price'] = 1\n",
    "            order['target_price'] = float(order['price'])\n",
    "        else:\n",
    "            print(final_convertion_dict[_symbol], order['updateTime'])\n",
    "            order['conversion_pair'] = final_convertion_dict[_symbol]\n",
    "            order['target_currency_price'] = get_historical_price(client, final_convertion_dict[_symbol], order['updateTime'])['price']\n",
    "            if position==1:\n",
    "                order['target_price'] = float(order['price'])/float(order['target_currency_price'])\n",
    "            else:\n",
    "                order['target_price'] = float(order['price'])*float(order['target_currency_price'])\n",
    "\n"
   ]
  },
  {
   "cell_type": "code",
   "execution_count": null,
   "metadata": {},
   "outputs": [],
   "source": [
    "pair_orders"
   ]
  },
  {
   "cell_type": "code",
   "execution_count": null,
   "metadata": {},
   "outputs": [],
   "source": [
    "import json\n",
    "with open(f'data_{time.strftime(\"%Y%m%d-%H%M%S\")}.json', 'w') as outfile:\n",
    "    json.dump(pair_orders, outfile)"
   ]
  },
  {
   "cell_type": "code",
   "execution_count": null,
   "metadata": {},
   "outputs": [],
   "source": [
    "def filter_by_currency(inp, currency_filter):\n",
    "        # cannot use 'contains' e.g. 'CKBUSDT' contains BUSD but is not BUSD\n",
    "        return list(\n",
    "            filter(\n",
    "                lambda x: x.endswith(tuple(currency_filter))\n",
    "                or x.startswith(tuple(currency_filter)), inp))"
   ]
  },
  {
   "cell_type": "code",
   "execution_count": null,
   "metadata": {},
   "outputs": [],
   "source": [
    "current_currency_list"
   ]
  },
  {
   "cell_type": "code",
   "execution_count": null,
   "metadata": {},
   "outputs": [],
   "source": [
    "a = None"
   ]
  },
  {
   "cell_type": "code",
   "execution_count": null,
   "metadata": {},
   "outputs": [],
   "source": [
    "b = a or 2"
   ]
  },
  {
   "cell_type": "code",
   "execution_count": null,
   "metadata": {},
   "outputs": [],
   "source": [
    "b"
   ]
  }
 ],
 "metadata": {
  "interpreter": {
   "hash": "c73362caf61c6096170ebb5e1cf1599cadb5b0970df84502d3bb06763e9d52bb"
  },
  "kernelspec": {
   "display_name": "Python 3.9.1 64-bit ('env': venv)",
   "name": "python3"
  },
  "language_info": {
   "codemirror_mode": {
    "name": "ipython",
    "version": 3
   },
   "file_extension": ".py",
   "mimetype": "text/x-python",
   "name": "python",
   "nbconvert_exporter": "python",
   "pygments_lexer": "ipython3",
   "version": "3.9.1"
  },
  "orig_nbformat": 4
 },
 "nbformat": 4,
 "nbformat_minor": 2
}
